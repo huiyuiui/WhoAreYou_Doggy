{
 "cells": [
  {
   "cell_type": "code",
   "execution_count": 56,
   "metadata": {},
   "outputs": [],
   "source": [
    "import os\n",
    "import math\n",
    "import time \n",
    "import numpy as np\n",
    "import tensorflow as tf\n",
    "import pandas as pd\n",
    "import matplotlib.pyplot as plt\n",
    "from tensorflow.keras import layers, models\n",
    "from tensorflow.keras.preprocessing.image import ImageDataGenerator"
   ]
  },
  {
   "cell_type": "code",
   "execution_count": 57,
   "metadata": {},
   "outputs": [],
   "source": [
    "os.environ[\"CUDA_VISIBLE_DEVICES\"] = \"1\"\n",
    "label_classes = ['森森', '小白']\n",
    "# label_classes = ['森森', '牛排', '巧巧', '小白', '花捲', '金毛', '巧虎', '超人', '吊吊', '黑胖', '乖狗', '橘子']\n",
    "\n",
    "# num_of_class = 12\n",
    "batch_size = 6"
   ]
  },
  {
   "cell_type": "code",
   "execution_count": 58,
   "metadata": {},
   "outputs": [
    {
     "name": "stdout",
     "output_type": "stream",
     "text": [
      "Found 36 images belonging to 2 classes.\n",
      "Found 36 images belonging to 2 classes.\n"
     ]
    }
   ],
   "source": [
    "train_datagen = ImageDataGenerator(\n",
    "    rescale=1./255,\n",
    "    # shear_range=0.1,\n",
    "    # zoom_range=0.1,\n",
    "    # width_shift_range=0.1,\n",
    "    # height_shift_range=0.1,\n",
    "    # horizontal_flip=True,\n",
    "    # vertical_flip=True,\n",
    "    # validation_split=0.1\n",
    ")\n",
    "\n",
    "valid_datagen = ImageDataGenerator(\n",
    "    rescale=1./255\n",
    ")\n",
    "\n",
    "train_generator = train_datagen.flow_from_directory(\n",
    "    directory=\"data/\",\n",
    "    target_size=(224,224),\n",
    "    color_mode=\"rgb\",\n",
    "    class_mode='categorical',\n",
    "    classes=label_classes,\n",
    "    batch_size=batch_size,\n",
    "    shuffle=True,\n",
    ")\n",
    "\n",
    "valid_generator = train_datagen.flow_from_directory(\n",
    "    directory=\"data/\",\n",
    "    target_size=(224,224),\n",
    "    color_mode=\"rgb\",\n",
    "    class_mode='categorical',\n",
    "    classes=label_classes,\n",
    "    batch_size=batch_size,\n",
    "    shuffle=True,\n",
    ")\n",
    "\n",
    "# for image_batch, label_batch in train_generator:\n",
    "#     break\n",
    "# print(\"shape of X_train:\", image_batch.shape)\n",
    "# print(\"shape of y_train:\", label_batch.shape)\n",
    "    "
   ]
  },
  {
   "cell_type": "code",
   "execution_count": 59,
   "metadata": {},
   "outputs": [],
   "source": [
    "# for my_batch in train_generator:\n",
    "#     images = my_batch[0]\n",
    "#     labels = my_batch[1]\n",
    "#     for i in range(len(labels)):\n",
    "#         plt.imshow(images[i])\n",
    "#         plt.colorbar()\n",
    "#         plt.show()\n",
    "#         print(labels[i])\n",
    "#     break"
   ]
  },
  {
   "cell_type": "code",
   "execution_count": 60,
   "metadata": {},
   "outputs": [
    {
     "name": "stdout",
     "output_type": "stream",
     "text": [
      "Model: \"sequential_1\"\n",
      "_________________________________________________________________\n",
      " Layer (type)                Output Shape              Param #   \n",
      "=================================================================\n",
      " MobilenetV3large (Functiona  (None, 7, 7, 960)        2996352   \n",
      " l)                                                              \n",
      "                                                                 \n",
      " conv2d_6 (Conv2D)           (None, 5, 5, 128)         1106048   \n",
      "                                                                 \n",
      " global_average_pooling2d_6   (None, 128)              0         \n",
      " (GlobalAveragePooling2D)                                        \n",
      "                                                                 \n",
      " dense_6 (Dense)             (None, 2)                 258       \n",
      "                                                                 \n",
      "=================================================================\n",
      "Total params: 4,102,658\n",
      "Trainable params: 1,106,306\n",
      "Non-trainable params: 2,996,352\n",
      "_________________________________________________________________\n"
     ]
    }
   ],
   "source": [
    "base_model = tf.keras.applications.MobileNetV3Large(\n",
    "    include_top = False,\n",
    "    input_shape=(224,224,3),\n",
    "    weights = 'imagenet',\n",
    "    # classes = 2,\n",
    "    # classifier_activation = \"softmax\"\n",
    ")\n",
    "\n",
    "base_model.trainable = False\n",
    "\n",
    "model = models.Sequential([\n",
    "    base_model,\n",
    "    layers.Conv2D(128, 3, activation='relu'),\n",
    "    layers.GlobalAveragePooling2D(),\n",
    "    layers.Dense(2, activation='softmax')\n",
    "])\n",
    "\n",
    "model.summary()"
   ]
  },
  {
   "cell_type": "code",
   "execution_count": 61,
   "metadata": {},
   "outputs": [
    {
     "name": "stdout",
     "output_type": "stream",
     "text": [
      "Epoch 1/10\n",
      "6/6 [==============================] - 9s 932ms/step - loss: 0.7445 - accuracy: 0.5000\n",
      "Epoch 2/10\n",
      "6/6 [==============================] - 6s 976ms/step - loss: 0.8207 - accuracy: 0.5000\n",
      "Epoch 3/10\n",
      "6/6 [==============================] - 6s 971ms/step - loss: 0.5660 - accuracy: 0.7778\n",
      "Epoch 4/10\n",
      "6/6 [==============================] - 6s 988ms/step - loss: 0.5328 - accuracy: 0.7500\n",
      "Epoch 5/10\n",
      "6/6 [==============================] - 6s 960ms/step - loss: 0.4279 - accuracy: 1.0000\n",
      "Epoch 6/10\n",
      "6/6 [==============================] - 6s 995ms/step - loss: 0.3581 - accuracy: 1.0000\n",
      "Epoch 7/10\n",
      "6/6 [==============================] - 6s 1s/step - loss: 0.2734 - accuracy: 1.0000\n",
      "Epoch 8/10\n",
      "6/6 [==============================] - 6s 1s/step - loss: 0.2221 - accuracy: 1.0000\n",
      "Epoch 9/10\n",
      "6/6 [==============================] - 6s 1s/step - loss: 0.1736 - accuracy: 1.0000\n",
      "Epoch 10/10\n",
      "6/6 [==============================] - 6s 952ms/step - loss: 0.1247 - accuracy: 1.0000\n"
     ]
    }
   ],
   "source": [
    "# model.compile(\n",
    "#     optimizer=tf.keras.optimizers.Adam,\n",
    "#     loss=tf.keras.losses.SparseCategoricalCrossentropy(from_logits=True),\n",
    "#     metrics=[tf.keras.metrics.SparseCategoricalAccuracy()],\n",
    "# )\n",
    "\n",
    "# my_callback = [tf.keras.callbacks.ModelCheckpoint(\n",
    "#     filepath='model_save/model_{epoch:03d}'\n",
    "# )]\n",
    "\n",
    "model.compile(optimizer=tf.keras.optimizers.Adam(),\n",
    "              loss=tf.keras.losses.BinaryCrossentropy(),\n",
    "              metrics=['accuracy']\n",
    "              )\n",
    "\n",
    "history = model.fit(\n",
    "    train_generator,\n",
    "    epochs=10,\n",
    ")\n",
    "\n",
    "# acc = history.history['accuracy']\n",
    "# epochs = range(1, len(acc) + 1)\n",
    "# val_acc = history.history['val_accuracy']\n",
    "# plt.plot(epochs, acc, 'b', label='Training acc')\n",
    "# plt.plot(epochs, val_acc, 'r', label='Validation acc', linewidth=0.5)\n",
    "# plt.title('Training and validation accuracy')\n",
    "# plt.legend(loc='lower right')\n",
    "# plt.grid()\n",
    "# # 儲存acc學習曲線\n",
    "# # plt.savefig('./acc.png')\n",
    "# plt.show()\n",
    "\n",
    "# # 畫出loss學習曲線\n",
    "# loss = history.history['loss']\n",
    "# val_loss = history.history['val_loss']\n",
    "# plt.plot(epochs, loss, 'b', label='Training loss')\n",
    "# plt.plot(epochs, val_loss, 'r', label='Validation loss', linewidth=0.5)\n",
    "# plt.title('Training and validation loss')\n",
    "# plt.legend(loc='upper right')\n",
    "# plt.grid()\n",
    "# # 儲存loss學習曲線\n",
    "# # plt.savefig('loss.png')\n",
    "# plt.show()"
   ]
  },
  {
   "cell_type": "code",
   "execution_count": 62,
   "metadata": {},
   "outputs": [
    {
     "name": "stdout",
     "output_type": "stream",
     "text": [
      "Train loss: 0.11486204713582993\n",
      "Train accuracy: 1.0\n",
      "Validation loss: 0.11486204713582993\n",
      "Validation accuracy: 1.0\n"
     ]
    }
   ],
   "source": [
    "pred_train = model.evaluate(train_generator, verbose=0)\n",
    "pred_val = model.evaluate(valid_generator, verbose=0)\n",
    "\n",
    "print(\"Train loss:\", pred_train[0])\n",
    "print(\"Train accuracy:\", pred_train[1])\n",
    "print(\"Validation loss:\", pred_val[0])\n",
    "print(\"Validation accuracy:\", pred_val[1])"
   ]
  }
 ],
 "metadata": {
  "kernelspec": {
   "display_name": "base",
   "language": "python",
   "name": "python3"
  },
  "language_info": {
   "codemirror_mode": {
    "name": "ipython",
    "version": 3
   },
   "file_extension": ".py",
   "mimetype": "text/x-python",
   "name": "python",
   "nbconvert_exporter": "python",
   "pygments_lexer": "ipython3",
   "version": "3.9.15 (main, Nov 24 2022, 14:39:17) [MSC v.1916 64 bit (AMD64)]"
  },
  "orig_nbformat": 4,
  "vscode": {
   "interpreter": {
    "hash": "d1d89cca3e8f8885eedf6c172f8c90ab3d060625a63bbfb433ea110391a0eab0"
   }
  }
 },
 "nbformat": 4,
 "nbformat_minor": 2
}
