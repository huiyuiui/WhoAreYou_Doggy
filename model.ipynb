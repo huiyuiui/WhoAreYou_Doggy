{
 "cells": [
  {
   "cell_type": "code",
   "execution_count": null,
   "metadata": {},
   "outputs": [],
   "source": [
    "import os\n",
    "import math\n",
    "import time \n",
    "import numpy as np\n",
    "import tensorflow as tf\n",
    "import pandas as pd\n",
    "import matplotlib.pyplot as plt\n",
    "from tensorflow.keras import layers, models\n",
    "from tensorflow.keras.preprocessing.image import ImageDataGenerator\n",
    "from pandas import read_csv\n",
    "from cv2 import imread"
   ]
  },
  {
   "cell_type": "code",
   "execution_count": null,
   "metadata": {},
   "outputs": [],
   "source": [
    "os.environ[\"CUDA_VISIBLE_DEVICES\"] = \"1\"\n",
    "label_classes = ['森森', '牛排', '巧巧', '小白', '花捲', '金毛', '巧虎', '超人', '吊吊', '黑胖', '乖狗', '橘子']"
   ]
  },
  {
   "cell_type": "code",
   "execution_count": null,
   "metadata": {},
   "outputs": [],
   "source": [
    "datagen = ImageDataGenerator(\n",
    "    rescale=1./255,\n",
    "    # horizontal_flip=True,\n",
    "    # width_shift_range=0.1,\n",
    "    # height_shift_range=0.1,\n",
    "    # rotation_range=10,\n",
    "    # # shear_range=0.1,\n",
    "    # zoom_range=0.3,\n",
    "    # validation_split=0.1,\n",
    "    # fill_mode='nearest'\n",
    ")\n",
    "\n",
    "train_generator = datagen.flow_from_directory(\n",
    "    directory=\"../data/\",\n",
    "    # subset='training',\n",
    "    target_size=(224,224),\n",
    "    color_mode=\"rgb\",\n",
    "    class_mode='sparse',\n",
    "    classes = label_classes,\n",
    "    batch_size=32,\n",
    "    # shuffle=True,\n",
    ")"
   ]
  },
  {
   "cell_type": "code",
   "execution_count": null,
   "metadata": {},
   "outputs": [],
   "source": [
    "# for my_batch in train_generator:\n",
    "#     images = my_batch[0]\n",
    "#     labels = my_batch[1]\n",
    "#     for i in range(len(labels)):\n",
    "#         plt.imshow(images[i])\n",
    "#         plt.colorbar()\n",
    "#         plt.show()\n",
    "#         print(labels[i])\n",
    "#     break"
   ]
  },
  {
   "cell_type": "code",
   "execution_count": null,
   "metadata": {},
   "outputs": [],
   "source": [
    "base_model = tf.keras.applications.MobileNetV3Large(\n",
    "    input_shape=(224,224,3),\n",
    "    include_top = False,\n",
    "    weights = 'imagenet',\n",
    "    classes = 3,\n",
    "    classifier_activation = \"softmax\"\n",
    ")\n",
    "\n",
    "base_model.trainable = True\n",
    "\n",
    "inputs = tf.keras.Input(shape=(224,224,3))\n",
    "\n",
    "x = base_model(inputs, training=False)\n",
    "x = layers.GlobalAveragePooling2D()(x)\n",
    "outputs = layers.Dense(12)(x)\n",
    "\n",
    "model = tf.keras.Model(inputs=inputs, outputs=outputs)\n",
    "model.summary()"
   ]
  },
  {
   "cell_type": "code",
   "execution_count": null,
   "metadata": {},
   "outputs": [],
   "source": [
    "# model.compile(\n",
    "#     optimizer=tf.keras.optimizers.Adam,\n",
    "#     loss=tf.keras.losses.SparseCategoricalCrossentropy(from_logits=True),\n",
    "#     metrics=[tf.keras.metrics.SparseCategoricalAccuracy()],\n",
    "# )\n",
    "\n",
    "# my_callback = [tf.keras.callbacks.ModelCheckpoint(\n",
    "#     filepath='model_save/model_{epoch:03d}'\n",
    "# )]\n",
    "\n",
    "model.compile(\n",
    "    optimizer='adam',\n",
    "    loss='sparse_categorical_crossentropy',\n",
    "    metrics=['accuracy']\n",
    ")\n",
    "\n",
    "history = model.fit(\n",
    "    train_generator,\n",
    "    epochs=10,\n",
    ")\n",
    "\n",
    "acc = history.history['accuracy']\n",
    "epochs = range(1, len(acc) + 1)\n",
    "val_acc = history.history['val_accuracy']\n",
    "plt.plot(epochs, acc, 'b', label='Training acc')\n",
    "plt.plot(epochs, val_acc, 'r', label='Validation acc', linewidth=0.5)\n",
    "plt.title('Training and validation accuracy')\n",
    "plt.legend(loc='lower right')\n",
    "plt.grid()\n",
    "# 儲存acc學習曲線\n",
    "# plt.savefig('./acc.png')\n",
    "plt.show()\n",
    "\n",
    "# 畫出loss學習曲線\n",
    "loss = history.history['loss']\n",
    "val_loss = history.history['val_loss']\n",
    "plt.plot(epochs, loss, 'b', label='Training loss')\n",
    "plt.plot(epochs, val_loss, 'r', label='Validation loss', linewidth=0.5)\n",
    "plt.title('Training and validation loss')\n",
    "plt.legend(loc='upper right')\n",
    "plt.grid()\n",
    "# 儲存loss學習曲線\n",
    "# plt.savefig('loss.png')\n",
    "plt.show()"
   ]
  },
  {
   "cell_type": "code",
   "execution_count": null,
   "metadata": {},
   "outputs": [],
   "source": []
  }
 ],
 "metadata": {
  "kernelspec": {
   "display_name": "tensorflow",
   "language": "python",
   "name": "python3"
  },
  "language_info": {
   "codemirror_mode": {
    "name": "ipython",
    "version": 3
   },
   "file_extension": ".py",
   "mimetype": "text/x-python",
   "name": "python",
   "nbconvert_exporter": "python",
   "pygments_lexer": "ipython3",
   "version": "3.8.15"
  },
  "orig_nbformat": 4,
  "vscode": {
   "interpreter": {
    "hash": "9d666d82339d4ec6598db6520b8ef6e55f52b78af793bca546f20d1c79188d15"
   }
  }
 },
 "nbformat": 4,
 "nbformat_minor": 2
}
