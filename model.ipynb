{
 "cells": [
  {
   "cell_type": "code",
   "execution_count": 39,
   "metadata": {},
   "outputs": [],
   "source": [
    "import os\n",
    "import math\n",
    "import time \n",
    "import numpy as np\n",
    "import tensorflow as tf\n",
    "import pandas as pd\n",
    "import matplotlib.pyplot as plt\n",
    "from tensorflow.keras import layers, models\n",
    "from tensorflow.keras.preprocessing.image import ImageDataGenerator\n",
    "\n",
    "from collections import Counter"
   ]
  },
  {
   "cell_type": "code",
   "execution_count": 40,
   "metadata": {},
   "outputs": [],
   "source": [
    "os.environ[\"CUDA_VISIBLE_DEVICES\"] = \"1\"\n",
    "label_classes = ['森森', '牛排', '巧巧', '小白', '花捲', '金毛', '吊吊', '黑胖', '乖狗', '橘子']\n",
    "\n",
    "num_of_class = len(label_classes)\n",
    "batch_size = 32\n",
    "target_size = (224, 224)"
   ]
  },
  {
   "cell_type": "code",
   "execution_count": 41,
   "metadata": {},
   "outputs": [
    {
     "name": "stdout",
     "output_type": "stream",
     "text": [
      "Found 706 images belonging to 10 classes.\n",
      "森森 with 48 images\n",
      "牛排 with 112 images\n",
      "巧巧 with 54 images\n",
      "小白 with 323 images\n",
      "花捲 with 3 images\n",
      "吊吊 with 5 images\n",
      "黑胖 with 113 images\n",
      "乖狗 with 28 images\n",
      "橘子 with 20 images\n",
      "Found 172 images belonging to 10 classes.\n",
      "森森 with 12 images\n",
      "牛排 with 28 images\n",
      "巧巧 with 13 images\n",
      "小白 with 80 images\n",
      "吊吊 with 1 images\n",
      "黑胖 with 28 images\n",
      "乖狗 with 6 images\n",
      "橘子 with 4 images\n"
     ]
    }
   ],
   "source": [
    "train_datagen = ImageDataGenerator(\n",
    "    rescale=1./255,\n",
    "    validation_split=0.2\n",
    ")\n",
    "\n",
    "train_generator = train_datagen.flow_from_directory(\n",
    "    directory=\"data/\",\n",
    "    target_size=target_size,\n",
    "    color_mode=\"rgb\",\n",
    "    class_mode='categorical',\n",
    "    classes=label_classes,\n",
    "    batch_size=batch_size,\n",
    "    shuffle=True,\n",
    "    subset='training'\n",
    ")\n",
    "for i, j in Counter(train_generator.classes).items():\n",
    "    print(label_classes[i], \"with\", j, \"images\")\n",
    "\n",
    "valid_generator = train_datagen.flow_from_directory(\n",
    "    directory=\"data/\",\n",
    "    target_size=target_size,\n",
    "    color_mode=\"rgb\",\n",
    "    class_mode='categorical',\n",
    "    classes=label_classes,\n",
    "    batch_size=batch_size,\n",
    "    shuffle=False,\n",
    "    subset='validation'\n",
    ")\n",
    "for i, j in Counter(valid_generator.classes).items():\n",
    "    print(label_classes[i], \"with\", j, \"images\")"
   ]
  },
  {
   "cell_type": "code",
   "execution_count": null,
   "metadata": {},
   "outputs": [],
   "source": [
    "# for my_batch in train_generator:\n",
    "#     images = my_batch[0]\n",
    "#     labels = my_batch[1]\n",
    "#     for i in range(len(labels)):\n",
    "#         plt.imshow(images[i])\n",
    "#         plt.colorbar()\n",
    "#         plt.show()\n",
    "#         print(labels[i])\n",
    "#     break"
   ]
  },
  {
   "cell_type": "code",
   "execution_count": null,
   "metadata": {},
   "outputs": [],
   "source": [
    "base_model = tf.keras.applications.MobileNetV3Large(\n",
    "    include_top = False,\n",
    "    input_shape = target_size + (3, ),\n",
    "    weights = 'imagenet'\n",
    ")\n",
    "\n",
    "base_model.trainable = False\n",
    "\n",
    "model = models.Sequential([\n",
    "    base_model,\n",
    "    layers.Conv2D(128, 3, activation='relu'),\n",
    "    layers.GlobalAveragePooling2D(),\n",
    "    layers.Dense(num_of_class, activation='softmax')\n",
    "])\n",
    "\n",
    "model.summary()"
   ]
  },
  {
   "cell_type": "code",
   "execution_count": null,
   "metadata": {},
   "outputs": [],
   "source": [
    "# my_callback = [tf.keras.callbacks.ModelCheckpoint(\n",
    "#     filepath='model_save/model_{epoch:03d}'\n",
    "# )]\n",
    "\n",
    "model.compile(optimizer=tf.keras.optimizers.Adam(),\n",
    "              loss=tf.keras.losses.BinaryCrossentropy(),\n",
    "              metrics=['accuracy']\n",
    "              )\n",
    "\n",
    "history = model.fit(\n",
    "    train_generator,\n",
    "    validation_data = valid_generator,\n",
    "    epochs=10\n",
    ")\n",
    "\n",
    "# acc = history.history['accuracy']\n",
    "# epochs = range(1, len(acc) + 1)\n",
    "# val_acc = history.history['val_accuracy']\n",
    "# plt.plot(epochs, acc, 'b', label='Training acc')\n",
    "# plt.plot(epochs, val_acc, 'r', label='Validation acc', linewidth=0.5)\n",
    "# plt.title('Training and validation accuracy')\n",
    "# plt.legend(loc='lower right')\n",
    "# plt.grid()\n",
    "# # 儲存acc學習曲線\n",
    "# # plt.savefig('./acc.png')\n",
    "# plt.show()\n",
    "\n",
    "# # 畫出loss學習曲線\n",
    "# loss = history.history['loss']\n",
    "# val_loss = history.history['val_loss']\n",
    "# plt.plot(epochs, loss, 'b', label='Training loss')\n",
    "# plt.plot(epochs, val_loss, 'r', label='Validation loss', linewidth=0.5)\n",
    "# plt.title('Training and validation loss')\n",
    "# plt.legend(loc='upper right')\n",
    "# plt.grid()\n",
    "# # 儲存loss學習曲線\n",
    "# # plt.savefig('loss.png')\n",
    "# plt.show()"
   ]
  },
  {
   "cell_type": "code",
   "execution_count": null,
   "metadata": {},
   "outputs": [],
   "source": [
    "pred_train = model.evaluate(train_generator, verbose=0)\n",
    "pred_val = model.evaluate(valid_generator, verbose=0)\n",
    "\n",
    "print(\"Train loss:\", pred_train[0])\n",
    "print(\"Train accuracy:\", pred_train[1])\n",
    "print(\"Validation loss:\", pred_val[0])\n",
    "print(\"Validation accuracy:\", pred_val[1])"
   ]
  },
  {
   "cell_type": "code",
   "execution_count": null,
   "metadata": {},
   "outputs": [],
   "source": [
    "# prediction = model.predict(valid_generator, verbose=0)\n",
    "# prediction = np.argmax(prediction, axis=1)"
   ]
  }
 ],
 "metadata": {
  "kernelspec": {
   "display_name": "base",
   "language": "python",
   "name": "python3"
  },
  "language_info": {
   "codemirror_mode": {
    "name": "ipython",
    "version": 3
   },
   "file_extension": ".py",
   "mimetype": "text/x-python",
   "name": "python",
   "nbconvert_exporter": "python",
   "pygments_lexer": "ipython3",
   "version": "3.9.15"
  },
  "orig_nbformat": 4,
  "vscode": {
   "interpreter": {
    "hash": "d1d89cca3e8f8885eedf6c172f8c90ab3d060625a63bbfb433ea110391a0eab0"
   }
  }
 },
 "nbformat": 4,
 "nbformat_minor": 2
}
